{
 "cells": [
  {
   "cell_type": "markdown",
   "id": "a1bd6d25-fafd-4c6e-b51e-9548c0258f4e",
   "metadata": {},
   "source": [
    "# Pandas\n",
    "---\n",
    "## Quiz"
   ]
  },
  {
   "cell_type": "code",
   "execution_count": null,
   "id": "a2071bf8-d8f4-4390-8e94-a38503bb1517",
   "metadata": {},
   "outputs": [],
   "source": [
    "import pandas as pd"
   ]
  },
  {
   "cell_type": "markdown",
   "id": "7b10f802-c64c-4367-8658-b19c02266509",
   "metadata": {},
   "source": [
    "### DataFrame\n",
    "- Will this DataFrame Creation from Dictionary work?"
   ]
  },
  {
   "cell_type": "code",
   "execution_count": null,
   "id": "ddf1eaeb-23d3-4368-90c8-752be6aa6b7d",
   "metadata": {},
   "outputs": [],
   "source": [
    "{\n",
    "    'StudentId':[101,5,21],\n",
    "    'Name' : ['Ram','Shyam','Rahul'],\n",
    "    'Rank': [1,2,3],\n",
    "    'Age': [21,24,23]\n",
    "}"
   ]
  },
  {
   "cell_type": "code",
   "execution_count": 1,
   "id": "4eee901b-e3ef-48a9-afa4-efbe575ecc40",
   "metadata": {},
   "outputs": [],
   "source": [
    "# Convert the above to DataFrame"
   ]
  },
  {
   "cell_type": "markdown",
   "id": "21368d13-0ac1-4e68-8756-49f0eb5c35e9",
   "metadata": {},
   "source": [
    "## Import/Export\n",
    "- Will export throw an error?"
   ]
  },
  {
   "cell_type": "code",
   "execution_count": null,
   "id": "47c914b2-badc-4cb8-b350-7139d0dd5ed0",
   "metadata": {},
   "outputs": [],
   "source": [
    "df.to_excel('1_StudentsScore_output.xlsx')"
   ]
  },
  {
   "cell_type": "markdown",
   "id": "e29f5698-31de-40ae-b039-e8a91ff8e6b4",
   "metadata": {},
   "source": [
    "## Concatenate\n",
    "- Will it concatenate row wise or column wise?"
   ]
  },
  {
   "cell_type": "code",
   "execution_count": null,
   "id": "442968a0-c417-400c-8837-f1731a4d6a09",
   "metadata": {},
   "outputs": [],
   "source": [
    "# read 3 datasets and concantenate them"
   ]
  },
  {
   "cell_type": "code",
   "execution_count": null,
   "id": "1e2d4f83-9916-4272-ba20-86e22966bb74",
   "metadata": {},
   "outputs": [],
   "source": []
  }
 ],
 "metadata": {
  "kernelspec": {
   "display_name": "Python 3",
   "language": "python",
   "name": "python3"
  },
  "language_info": {
   "codemirror_mode": {
    "name": "ipython",
    "version": 3
   },
   "file_extension": ".py",
   "mimetype": "text/x-python",
   "name": "python",
   "nbconvert_exporter": "python",
   "pygments_lexer": "ipython3",
   "version": "3.8.8"
  },
  "toc-autonumbering": true
 },
 "nbformat": 4,
 "nbformat_minor": 5
}
